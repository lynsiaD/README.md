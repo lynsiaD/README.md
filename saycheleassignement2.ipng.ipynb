{
 "cells": [
  {
   "cell_type": "markdown",
   "metadata": {},
   "source": [
    "DONGMO TEDO LYNSIA SAYCHELE\n",
    "\n",
    "Assignment 2"
   ]
  },
  {
   "cell_type": "markdown",
   "metadata": {},
   "source": [
    "1-Write a python script that asks the user for the values of x and y and uses these inputs to\n",
    "compute the numerical value of the expression\n",
    "√x2+y\n",
    "1x\n",
    "+ 2 sin y\n",
    "."
   ]
  },
  {
   "cell_type": "code",
   "execution_count": 2,
   "metadata": {},
   "outputs": [
    {
     "ename": "SyntaxError",
     "evalue": "invalid syntax (<ipython-input-2-bdb4f6b3a372>, line 5)",
     "output_type": "error",
     "traceback": [
      "\u001b[1;36m  File \u001b[1;32m\"<ipython-input-2-bdb4f6b3a372>\"\u001b[1;36m, line \u001b[1;32m5\u001b[0m\n\u001b[1;33m    print(l)\u001b[0m\n\u001b[1;37m        ^\u001b[0m\n\u001b[1;31mSyntaxError\u001b[0m\u001b[1;31m:\u001b[0m invalid syntax\n"
     ]
    }
   ],
   "source": [
    "import math \n",
    "x=float(input('entrer une valeur x'))\n",
    "y=float(input('entrer une valeur y'))\n",
    "l=(math.sqrt(x**(2+y)/((1/x)+2*math.sin(y))\n",
    "print(l)"
   ]
  },
  {
   "cell_type": "code",
   "execution_count": 7,
   "metadata": {},
   "outputs": [
    {
     "ename": "IndentationError",
     "evalue": "unindent does not match any outer indentation level (<tokenize>, line 5)",
     "output_type": "error",
     "traceback": [
      "\u001b[1;36m  File \u001b[1;32m\"<tokenize>\"\u001b[1;36m, line \u001b[1;32m5\u001b[0m\n\u001b[1;33m    l=(math.sqrt(x**(2+y)/((1/x)+2*math.sin(y))\u001b[0m\n\u001b[1;37m    ^\u001b[0m\n\u001b[1;31mIndentationError\u001b[0m\u001b[1;31m:\u001b[0m unindent does not match any outer indentation level\n"
     ]
    }
   ],
   "source": [
    "import math\n",
    "x=float(input('entrer une valeur x'))\n",
    "y=float(input('entrer une valeur y'))\n",
    "        if x**(2+y)>0\n",
    "    l=(math.sqrt(x**(2+y)/((1/x)+2*math.sin(y))\n",
    "            print(l)"
   ]
  },
  {
   "cell_type": "markdown",
   "metadata": {},
   "source": [
    "2. Write a function that given two integers b and n (n is positive), calculates bn without using\n",
    "python’s power operator. Name this function ownpowerfn.py.\n",
    "PS: What if we do not specify that n has to be positive?"
   ]
  },
  {
   "cell_type": "code",
   "execution_count": 23,
   "metadata": {},
   "outputs": [],
   "source": [
    "def ownpowerfn(b,n) :\n",
    "    f=0\n",
    "    for i in range (0,n):\n",
    "        if n>0:\n",
    "            f=b**n\n",
    "    print(f)  "
   ]
  },
  {
   "cell_type": "code",
   "execution_count": 24,
   "metadata": {
    "scrolled": true
   },
   "outputs": [
    {
     "name": "stdout",
     "output_type": "stream",
     "text": [
      "16\n"
     ]
    }
   ],
   "source": [
    "ownpowerfn(2,4)\n"
   ]
  },
  {
   "cell_type": "markdown",
   "metadata": {},
   "source": [
    ".b What if we do not specify that n has to be positive ?"
   ]
  },
  {
   "cell_type": "code",
   "execution_count": null,
   "metadata": {},
   "outputs": [],
   "source": []
  },
  {
   "cell_type": "markdown",
   "metadata": {},
   "source": [
    "3.a Takes two arguments, and computes their arithmetic and geometric means. Name\n",
    "these functions arithmetic_mean and geometric_mean respectively."
   ]
  },
  {
   "cell_type": "code",
   "execution_count": 40,
   "metadata": {},
   "outputs": [],
   "source": [
    "import math \n",
    "def moyenne_arithmetique(x,y) :\n",
    "    q=(x+y)/2\n",
    "    print('est la moyenne arithmétique: ',q)\n",
    "def moyenne_geometrique(o,p) :\n",
    "    u=math.sqrt(o*p)\n",
    "    print(\" la moyenne geometrique est \", u)  "
   ]
  },
  {
   "cell_type": "code",
   "execution_count": 41,
   "metadata": {},
   "outputs": [
    {
     "name": "stdout",
     "output_type": "stream",
     "text": [
      "est la moyenne arithmétique:  3.5\n",
      " la moyenne geometrique est  3.4641016151377544\n"
     ]
    }
   ],
   "source": [
    "moyenne_arithmetique(2,5) \n",
    "moyenne_geometrique(3,4)"
   ]
  },
  {
   "cell_type": "code",
   "execution_count": null,
   "metadata": {},
   "outputs": [],
   "source": [
    " b-Converts degree Celsius to Fahrenheit and vice versa. Name these two functions\n",
    "celcius_to_fahrenheit and fahrenheit_to_celcius respectively."
   ]
  },
  {
   "cell_type": "code",
   "execution_count": 44,
   "metadata": {},
   "outputs": [],
   "source": [
    "def celcius_to_fahrenheit (c) :\n",
    "    f=(c*(9/5))+32\n",
    "    print('la conversion du degrés Celsius en degrés Fahrenheit:',f)  \n",
    "    \n",
    "def fahrenheit_to_celcius(f) :\n",
    "    c=(5/9)*(f - 32)\n",
    "    print('la conversion du degrés Fahrenheit en degrés Celsius est: ',c)"
   ]
  },
  {
   "cell_type": "code",
   "execution_count": 45,
   "metadata": {},
   "outputs": [
    {
     "name": "stdout",
     "output_type": "stream",
     "text": [
      "la conversion du degrés Celsius en degrés Fahrenheit: 35.6\n",
      "la conversion du degrés Fahrenheit en degrés Celsius est:  -13.88888888888889\n"
     ]
    }
   ],
   "source": [
    "celcius_en_fahrenheit (2)\n",
    "fahrenheit_en_celcius(7)\n"
   ]
  },
  {
   "cell_type": "markdown",
   "metadata": {},
   "source": [
    "c) Converts angle in degrees to radians and vice versa. Name these two functions\n",
    "degrees_to_radians and radians_to_degrees respectively."
   ]
  },
  {
   "cell_type": "code",
   "execution_count": 46,
   "metadata": {},
   "outputs": [],
   "source": [
    "pi=3.14\n",
    "def fahrenheit_to_celcius(b) :\n",
    "    a=(b*180)/pi\n",
    "    print( \"la conversion de b en radians est: \",a)\n",
    "def degrees_to_radians (a) :\n",
    "    b=(a*pi)/180\n",
    "    print(\"la conversion de a en radians est: \",b)  \n",
    "    \n"
   ]
  },
  {
   "cell_type": "code",
   "execution_count": 47,
   "metadata": {},
   "outputs": [
    {
     "name": "stdout",
     "output_type": "stream",
     "text": [
      "la conversion de b en radians est:  515.9235668789809\n",
      "la conversion de a en radians est:  0.10466666666666667\n"
     ]
    }
   ],
   "source": [
    "fahrenheit_to_celcius(9)\n",
    "degrees_to_radians(6)"
   ]
  },
  {
   "cell_type": "markdown",
   "metadata": {},
   "source": [
    "d) Computes the circumference and the area of a circle given the radius"
   ]
  },
  {
   "cell_type": "code",
   "execution_count": 70,
   "metadata": {},
   "outputs": [],
   "source": [
    "pi=3.14\n",
    "def rayon_du_cercle(r):\n",
    "    c=2*pi*r\n",
    "    a = pi*r**2\n",
    "    return c,a"
   ]
  },
  {
   "cell_type": "code",
   "execution_count": 71,
   "metadata": {},
   "outputs": [
    {
     "data": {
      "text/plain": [
       "(37.68, 113.04)"
      ]
     },
     "execution_count": 71,
     "metadata": {},
     "output_type": "execute_result"
    }
   ],
   "source": [
    "rayon_du_cercle(6)"
   ]
  },
  {
   "cell_type": "markdown",
   "metadata": {},
   "source": [
    "4-Write functions that do the following:\n",
    "a) Given two numbers, compute their average and geometrical mean and prints them.\n",
    "Now write a program that performs this process 10 times, taking as input the means\n",
    "computed in the previous step. Name this function avggeom."
   ]
  },
  {
   "cell_type": "code",
   "execution_count": 5,
   "metadata": {},
   "outputs": [],
   "source": [
    "import math\n",
    "def moyenne_et_moyenne_Geometrique(x,y) :\n",
    "    moyenne=(x+y)/2\n",
    "    moyenne_Geometrique=math.sqrt(x*y)\n",
    "    return moyenne , moyenne_Geometrique"
   ]
  },
  {
   "cell_type": "code",
   "execution_count": 6,
   "metadata": {},
   "outputs": [
    {
     "data": {
      "text/plain": [
       "(5.5, 4.242640687119285)"
      ]
     },
     "execution_count": 6,
     "metadata": {},
     "output_type": "execute_result"
    }
   ],
   "source": [
    "moyenne_et_moyenne_Geometrique(2,9)"
   ]
  },
  {
   "cell_type": "markdown",
   "metadata": {},
   "source": [
    "b-Write a function that computes the distance between two points in the plane. Use\n",
    "it in another program that computes the perimeter and the area of a triangle, given\n",
    "three points in the plane. Name this function distancefn."
   ]
  },
  {
   "cell_type": "code",
   "execution_count": 7,
   "metadata": {},
   "outputs": [
    {
     "data": {
      "text/plain": [
       "1.4142135623730951"
      ]
     },
     "execution_count": 7,
     "metadata": {},
     "output_type": "execute_result"
    }
   ],
   "source": [
    "import math\n",
    "def distance(a1,a2,a3,a4) :\n",
    "    ditanc=math.sqrt((a2-a1)**2+(a4-a3)**2)\n",
    "    return ditanc\n",
    "distance(1,2,3,4)"
   ]
  },
  {
   "cell_type": "code",
   "execution_count": 10,
   "metadata": {
    "scrolled": true
   },
   "outputs": [],
   "source": [
    "import math\n",
    "def distancefn(x1,x2,x3,y1,y2,y3):\n",
    "        perimtre = math.dist(x1,x2,y1,y2)+math.dist(x2,x3,y2,y3)+dist(x1,x3,y1,y3)\n",
    "        aire = (math.dist(x2,x3,y2,y3)*math.dist(x1,x2,y1,y2))/2\n",
    "        return perimtre , aire\n",
    "distancefn(1,2,3,1,2,3)"
   ]
  },
  {
   "cell_type": "markdown",
   "metadata": {},
   "source": [
    "5-Write a program that offers three options to the user:\n",
    "1.Evaluation of actorial"
   ]
  },
  {
   "cell_type": "markdown",
   "metadata": {},
   "source": [
    "6-For a fixed real number x and a natural number n, we can define recursively xn using the\n",
    "relations:\n",
    "x0 = 1 and xn+1 = x.xn.\n",
    "Write a function power(x,n) that implements the above recursion"
   ]
  },
  {
   "cell_type": "code",
   "execution_count": null,
   "metadata": {},
   "outputs": [],
   "source": [
    "def puissance (x,y) :\n",
    "    if n == 0 :\n",
    "        return 1\n",
    "    if y%2 == 0 :\n",
    "        m=puissance(x,y/2)\n",
    "        return m*m\n",
    "    else :\n",
    "        return x*puissance(x,y-1)"
   ]
  },
  {
   "cell_type": "code",
   "execution_count": null,
   "metadata": {},
   "outputs": [],
   "source": [
    "puissance (1,3)"
   ]
  }
 ],
 "metadata": {
  "kernelspec": {
   "display_name": "Python 3",
   "language": "python",
   "name": "python3"
  },
  "language_info": {
   "codemirror_mode": {
    "name": "ipython",
    "version": 3
   },
   "file_extension": ".py",
   "mimetype": "text/x-python",
   "name": "python",
   "nbconvert_exporter": "python",
   "pygments_lexer": "ipython3",
   "version": "3.7.6"
  }
 },
 "nbformat": 4,
 "nbformat_minor": 4
}
