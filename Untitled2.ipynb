{
 "cells": [
  {
   "cell_type": "markdown",
   "metadata": {},
   "source": [
    "DONGMO TEDO LYNSIA SAYCHELE\n",
    "\n",
    "PYTHON ASSIGNMENT 1"
   ]
  },
  {
   "cell_type": "code",
   "execution_count": null,
   "metadata": {},
   "outputs": [],
   "source": [
    "n=int(input('entrer la valeur de n: '))\n",
    "i=1\n",
    "y=0\n",
    "for i in range(0,n):\n",
    "    if (i%2)==1: \n",
    "        y=y+(i+3)\n",
    "print(y)"
   ]
  },
  {
   "cell_type": "code",
   "execution_count": 51,
   "metadata": {},
   "outputs": [
    {
     "name": "stdout",
     "output_type": "stream",
     "text": [
      "entrer la valeur de n2\n",
      "36\n"
     ]
    }
   ],
   "source": [
    "o=int(input('entrer la valeur de n: '))\n",
    "i=0\n",
    "Y=1\n",
    "for i in range(0,o):\n",
    "    if (i%2)==0: \n",
    "        y=y*(i+3)\n",
    "print(y)"
   ]
  },
  {
   "cell_type": "markdown",
   "metadata": {},
   "source": [
    "2. Write a program that reads the number of the day of the week (from 0 to 6). If it is a\n",
    "working day, then the program will write the name of the corresponding day. Otherwise,\n",
    "it will write the word \"Weekend\""
   ]
  },
  {
   "cell_type": "code",
   "execution_count": null,
   "metadata": {},
   "outputs": [
    {
     "name": "stdout",
     "output_type": "stream",
     "text": [
      "entre un nombre: 5\n",
      "le jour non ouvrable est: samedi\n"
     ]
    }
   ],
   "source": [
    "\n",
    "n=['lundi','mardi','mercredi','jeudi','vendredi','samedi','dimanche']\n",
    "\n",
    "for i in range(0,len(n)):\n",
    "    i=int(input('entre un nombre: '))\n",
    "    if i<5: ## est un jour ouvrable\n",
    "        print('le jour ouvrable est:',n[i])\n",
    "    elif i>=5:## est un jour non ouvrable\n",
    "        print('le jour non ouvrable est:',n[i])\n",
    "      \n",
    "    "
   ]
  },
  {
   "cell_type": "markdown",
   "metadata": {},
   "source": [
    "3. Make a program that, given a month number (from 0 to 11), indicates how many days it\n",
    "has (28, 30 or 31), ignoring the leap years."
   ]
  },
  {
   "cell_type": "code",
   "execution_count": null,
   "metadata": {},
   "outputs": [],
   "source": [
    "p=['janvier','fevrier','mars','avril','mai','juin','juillet','aout','septembre','octobre','novembre','decembre']\n",
    "i=0\n",
    "for i in range(0,len(p)+1):\n",
    "    i=int(input('un nombre quelconque: '))\n",
    "    if(i==0 or i==2 or i==4 or i==6 or i==7 or i==9 or i==11): \n",
    "        print(\"Number of days is 31\")\n",
    "    if(i==3,i==5,i==8,i==10):\n",
    "        print(\"Number of days is 30\")\n",
    "    if(p==1):\n",
    "        print(\"Number of days is 29\")\n",
    "        "
   ]
  },
  {
   "cell_type": "markdown",
   "metadata": {},
   "source": [
    "4. Write two versions of python code that displays your name 3 times. One version with a\n",
    "\"for loop\" and another version with a \"while loop\"."
   ]
  },
  {
   "cell_type": "code",
   "execution_count": 2,
   "metadata": {},
   "outputs": [
    {
     "name": "stdout",
     "output_type": "stream",
     "text": [
      "Dongmo\n",
      "DongmoDongmo\n"
     ]
    }
   ],
   "source": [
    "n='Dongmo'\n",
    "for i in range(1,3):\n",
    "    print(n*i)"
   ]
  },
  {
   "cell_type": "code",
   "execution_count": 1,
   "metadata": {},
   "outputs": [
    {
     "name": "stdout",
     "output_type": "stream",
     "text": [
      "Dongmo\n",
      "DongmoDongmo\n"
     ]
    }
   ],
   "source": [
    "n='Dongmo'\n",
    "i=1\n",
    "while i<3:\n",
    "    print(n*i)\n",
    "    i=i+1\n",
    "     \n"
   ]
  },
  {
   "cell_type": "markdown",
   "metadata": {},
   "source": [
    "5. Given two numbers a0 and a1, the Fibonacci sequence they generate is constructed from\n",
    "the recursion formula an+1 = an + an􀀀1. Calculate the first 15 terms of a Fibonacci\n",
    "sequence, asking the user the initial values."
   ]
  },
  {
   "cell_type": "code",
   "execution_count": 5,
   "metadata": {},
   "outputs": [
    {
     "name": "stdout",
     "output_type": "stream",
     "text": [
      "entrer le nombre de terme: 12\n",
      "entre le nombre a0: 1\n",
      "entrer le nombre a1: 0\n",
      "\n",
      " la suite fibonacci est: \n",
      "1 , 0, 1, 1, 2, 3, 5, 8, 13, 21, 34, 55, "
     ]
    }
   ],
   "source": [
    "n=int(input('entrer le nombre de terme: '))\n",
    "a0=int(input( 'entre le nombre a0: '))\n",
    "a1=int(input('entrer le nombre a1: '))\n",
    "print(\"\\n la suite fibonacci est: \")\n",
    "print(a0, \",\", a1, end=\", \")\n",
    "for i in range(2, n):\n",
    "    an = a1 + a0\n",
    "    print(an, end=\", \")\n",
    "    a0 = a1\n",
    "    a1 = an"
   ]
  },
  {
   "cell_type": "markdown",
   "metadata": {},
   "source": [
    "6. Compute the first 30 terms of the sequence defined by 2xn+2 􀀀 xn+1 􀀀 6xn = 0 sequence,\n",
    "given any two initial values x0 and x1"
   ]
  },
  {
   "cell_type": "code",
   "execution_count": 15,
   "metadata": {},
   "outputs": [
    {
     "name": "stdout",
     "output_type": "stream",
     "text": [
      "entrer le nombre de terme: 12\n",
      "entrer un chiffre: 1\n",
      "\n",
      " entrer un autre chiffre: 0\n",
      "le nombre de terme est: \n",
      "3.0, 1.5, 9.75, 9.375, 33.9375, 45.09375, 124.359375, 197.4609375, 471.80859375, 828.287109375, 1829.5693359375, "
     ]
    }
   ],
   "source": [
    "n=int(input('entrer le nombre de terme: '))\n",
    "x0=int(input('entrer un chiffre: '))\n",
    "x1=int(input('\\n entrer un autre chiffre: '))\n",
    "print('le nombre de terme est: ')\n",
    "for i in range (2,n):\n",
    "    xn=(x1+6*x0)/2\n",
    "    print(xn, end=\", \")\n",
    "    x0=x1\n",
    "    x1=xn\n",
    "\n"
   ]
  },
  {
   "cell_type": "markdown",
   "metadata": {},
   "source": [
    "7. a) Write python code to determine whether or not a year is a leap year. Be sure you\n",
    "know what a leap year is."
   ]
  },
  {
   "cell_type": "code",
   "execution_count": 13,
   "metadata": {},
   "outputs": [
    {
     "name": "stdout",
     "output_type": "stream",
     "text": [
      "Enter Year: 2021\n",
      "2021 is not a Leap Year\n"
     ]
    }
   ],
   "source": [
    "annee = int(input(\"Entrer annee: \"))\n",
    "if annee % 4 == 0 and annee % 100 != 0:\n",
    "    print(annee, \"est une annee bisextile\")\n",
    "elif annee % 100 == 0:\n",
    "    print(annee, \"n'est pas une annee bisextile\")\n",
    "elif annee % 400 ==0:\n",
    "    print(annee, \"est une annee bisextile\")\n",
    "else:\n",
    "    print(annee, \"n'est pas une annee bisextile\")"
   ]
  },
  {
   "cell_type": "markdown",
   "metadata": {},
   "source": [
    "7.b) Write the code using only logical operators, i.e. no conditional branching."
   ]
  },
  {
   "cell_type": "code",
   "execution_count": null,
   "metadata": {},
   "outputs": [],
   "source": []
  },
  {
   "cell_type": "markdown",
   "metadata": {},
   "source": [
    "8. a) Write python code that computes the sum of the square of the first n natural numbers.\n",
    "One version with a \"for loop\" and another version with a \"while loop\"."
   ]
  },
  {
   "cell_type": "code",
   "execution_count": null,
   "metadata": {},
   "outputs": [],
   "source": [
    "n=int(input('entrer un nombre entier'))\n",
    "y=1\n",
    "for i in range(1,n+1):\n",
    "    print(y*2*i)\n",
    "  \n",
    "    "
   ]
  },
  {
   "cell_type": "code",
   "execution_count": 2,
   "metadata": {},
   "outputs": [
    {
     "name": "stdout",
     "output_type": "stream",
     "text": [
      "entrer un nombre entier3\n",
      "0\n",
      "2\n",
      "4\n",
      "6\n"
     ]
    }
   ],
   "source": [
    "n=int(input('entrer un nombre entier'))\n",
    "y=1\n",
    "i=0\n",
    "while i<=n:\n",
    "    print(y*2*i)\n",
    "    i=i+1\n",
    "  "
   ]
  },
  {
   "cell_type": "markdown",
   "metadata": {},
   "source": [
    "b) Write python code that prints, for a natural number M, the smallest natural number\n",
    "n such that 12+22+\u0001 \u0001 \u0001+n2 \u0015 M: One version with a \"for loop\" and another version\n",
    "with a \"while loop\"."
   ]
  },
  {
   "cell_type": "code",
   "execution_count": 31,
   "metadata": {},
   "outputs": [
    {
     "name": "stdout",
     "output_type": "stream",
     "text": [
      "entrer une valeur184\n",
      "le plus petit entier naturel est:  184\n"
     ]
    }
   ],
   "source": [
    "M=int(input('entrer une valeur'))\n",
    "h=0\n",
    "n=1\n",
    "for n in range(0,M+1):\n",
    "    h=(n*(n+1)*(2*n+1))## car la somme des termes de 1 a n peut encore s'ecrire comme h \n",
    "    if h>=M:\n",
    "        petit=n\n",
    "print('le plus petit entier naturel est: ',n)\n"
   ]
  },
  {
   "cell_type": "code",
   "execution_count": 42,
   "metadata": {},
   "outputs": [
    {
     "name": "stdout",
     "output_type": "stream",
     "text": [
      "entrer une valeur184\n",
      "0\n"
     ]
    }
   ],
   "source": [
    "M=int(input('entrer une valeur'))\n",
    "h=0\n",
    "n=0\n",
    "while h>=M:\n",
    "    h=(n*(n+1)*(2*n+1))\n",
    "    n=n+1\n",
    "print(n)"
   ]
  },
  {
   "cell_type": "markdown",
   "metadata": {},
   "source": [
    "9. a) Write python code that prints all the divisors of a given natural number"
   ]
  },
  {
   "cell_type": "code",
   "execution_count": 8,
   "metadata": {},
   "outputs": [
    {
     "name": "stdout",
     "output_type": "stream",
     "text": [
      "Entrer un nombre entier naturel : 8\n",
      "1\n",
      "2\n",
      "4\n",
      "8\n"
     ]
    }
   ],
   "source": [
    "n = int(input(\"Entrer un nombre entier naturel : \"))\n",
    "for i in range(1,n+1):\n",
    "    if n%i==0 :\n",
    "        print(i)"
   ]
  },
  {
   "cell_type": "markdown",
   "metadata": {},
   "source": [
    "b) Read an integer number input by the user and calculate its prime factors. This will\n",
    "just be some of its divisors"
   ]
  },
  {
   "cell_type": "code",
   "execution_count": 7,
   "metadata": {},
   "outputs": [
    {
     "name": "stdout",
     "output_type": "stream",
     "text": [
      "Entrer un nombre entier naturel : 8\n",
      "les diviseurs sont:  1\n",
      "les diviseurs sont:  2\n",
      "les diviseurs sont:  4\n",
      "les diviseurs sont:  8\n"
     ]
    }
   ],
   "source": [
    "p = int(input(\"Entrer un nombre entier naturel : \"))\n",
    "for i in range(1,p+1):\n",
    "    if p%i==0:\n",
    "        p/i\n",
    "        print('les diviseurs sont: ',i) "
   ]
  },
  {
   "cell_type": "markdown",
   "metadata": {},
   "source": [
    "10. Read an integer number between n 0 and 9 and print its multiplication table up to N\n",
    "where N is another another natural number read by the program."
   ]
  },
  {
   "cell_type": "code",
   "execution_count": 2,
   "metadata": {},
   "outputs": [
    {
     "name": "stdout",
     "output_type": "stream",
     "text": [
      "entrer un nombre entre 0 et 9: 2\n",
      "Enter another number:3\n",
      "0 * 2 = 0\n",
      "1 * 2 = 2\n",
      "2 * 2 = 4\n",
      "3 * 2 = 6\n"
     ]
    }
   ],
   "source": [
    "n=int(input('entrer un nombre entre 0 et 9: '))\n",
    "N=int(input('Enter another number:'))\n",
    "i=0\n",
    "while i<=N:\n",
    "    print(i,'*',n ,'=',i*n)\n",
    "    i=i+1"
   ]
  },
  {
   "cell_type": "code",
   "execution_count": null,
   "metadata": {},
   "outputs": [],
   "source": [
    "#n=int(input('Enter a number between 0 and 9 :'))\n",
    "#N=int(input('Enter another number:'))\n",
    "#for i in range(N):\n",
    "   # print(i,'*',n ,'=',i*n)"
   ]
  },
  {
   "cell_type": "markdown",
   "metadata": {},
   "source": [
    "11. Write a program that prints all the numbers between 0 and 40 that are multiples of 3, 7\n",
    "or 11."
   ]
  },
  {
   "cell_type": "code",
   "execution_count": 4,
   "metadata": {},
   "outputs": [
    {
     "name": "stdout",
     "output_type": "stream",
     "text": [
      "les multiples de 3 sont:  0\n",
      "les multiples de 7 sont:  0\n",
      "les multiples de 11 sont:  0\n",
      "les multiples de 3 sont:  3\n",
      "les multiples de 3 sont:  6\n",
      "les multiples de 7 sont:  7\n",
      "les multiples de 3 sont:  9\n",
      "les multiples de 11 sont:  11\n",
      "les multiples de 3 sont:  12\n",
      "les multiples de 7 sont:  14\n",
      "les multiples de 3 sont:  15\n",
      "les multiples de 3 sont:  18\n",
      "les multiples de 3 sont:  21\n",
      "les multiples de 7 sont:  21\n",
      "les multiples de 11 sont:  22\n",
      "les multiples de 3 sont:  24\n",
      "les multiples de 3 sont:  27\n",
      "les multiples de 7 sont:  28\n",
      "les multiples de 3 sont:  30\n",
      "les multiples de 3 sont:  33\n",
      "les multiples de 11 sont:  33\n",
      "les multiples de 7 sont:  35\n",
      "les multiples de 3 sont:  36\n",
      "les multiples de 3 sont:  39\n"
     ]
    }
   ],
   "source": [
    "n=40\n",
    "i=1\n",
    "for i in range(0,40):\n",
    "    if i%3 == 0: \n",
    "        print('les multiples de 3 sont: ', i)\n",
    "    if i%7 == 0 :\n",
    "         print('les multiples de 7 sont: ',i)\n",
    "    if i%11 == 0:\n",
    "        print('les multiples de 11 sont: ',i)\n",
    "     "
   ]
  },
  {
   "cell_type": "markdown",
   "metadata": {},
   "source": [
    "12. Write python code that prints the floor of a float x. Recall that the floor of a float x is the\n",
    "largest integer value less than or equal to x, i.e. if E[x] is the floor of x, then it satisfies,\n",
    "E[x] = 1 + E[x 􀀀 1]"
   ]
  },
  {
   "cell_type": "code",
   "execution_count": 2,
   "metadata": {},
   "outputs": [
    {
     "name": "stdout",
     "output_type": "stream",
     "text": [
      "entrer x2\n",
      "entrer y-3\n",
      "quatrieme quadrant\n"
     ]
    }
   ],
   "source": []
  },
  {
   "cell_type": "markdown",
   "metadata": {},
   "source": [
    "13. Given a point in the plane by its Cartesian coordinates, determine in which quadrant it is\n",
    "(1st, 2nd, 3rd, 4th), if it lies on an axis, or if it is the origin. Do this for several points in\n",
    "the same execution of the program until the user quits."
   ]
  },
  {
   "cell_type": "code",
   "execution_count": 2,
   "metadata": {},
   "outputs": [
    {
     "name": "stdout",
     "output_type": "stream",
     "text": [
      "entrer x1\n",
      "entrer y3\n",
      "premier quadrant\n"
     ]
    }
   ],
   "source": [
    "x=int(input('entrer x'))\n",
    "y=int(input('entrer y'))\n",
    "if (x > 0 and y > 0):\n",
    "    print('premier quadrant')\n",
    "elif (x < 0 and y > 0):\n",
    "        print (\"second cadrant\")\n",
    "elif (x < 0 and y < 0):\n",
    "        print ('troisieme quadrant')    \n",
    "elif (x > 0 and y < 0):\n",
    "        print (\"quatrieme quadrant\")\n",
    "else:\n",
    "        print (\"RAS\")"
   ]
  },
  {
   "cell_type": "markdown",
   "metadata": {},
   "source": [
    "14. Ask for an integer number between 0 and 9, denoted x. Once the user has entered a correct\n",
    "number (that is one in the range [0..10)) the program asks for a second integer number\n",
    "between 0 and 255, denoted max. The program continues asking for the number until it\n",
    "is correct (that it is in the range [0..256)). When this is done, show all multiples of x that\n",
    "are between 0 and max. Then, ask the user whether he/she wants to continue; if in the\n",
    "affirmative, ask for another couple of numbers, otherwise finish.\n",
    "2"
   ]
  },
  {
   "cell_type": "code",
   "execution_count": null,
   "metadata": {},
   "outputs": [
    {
     "name": "stdout",
     "output_type": "stream",
     "text": [
      "entrer un nombre entier entre 0 et 9: 2\n",
      "entrer un nombre entre 0 et 255: 58\n",
      "0\n",
      "voulez vous continuer?\n",
      "2\n",
      "voulez vous continuer?\n",
      "4\n",
      "voulez vous continuer?\n",
      "6\n",
      "voulez vous continuer?\n",
      "8\n",
      "voulez vous continuer?\n",
      "10\n",
      "voulez vous continuer?\n",
      "12\n",
      "voulez vous continuer?\n",
      "14\n",
      "voulez vous continuer?\n",
      "16\n",
      "voulez vous continuer?\n",
      "18\n",
      "voulez vous continuer?\n",
      "20\n",
      "voulez vous continuer?\n",
      "22\n",
      "voulez vous continuer?\n",
      "24\n",
      "voulez vous continuer?\n",
      "26\n",
      "voulez vous continuer?\n",
      "28\n",
      "voulez vous continuer?\n",
      "30\n",
      "voulez vous continuer?\n",
      "32\n",
      "voulez vous continuer?\n",
      "34\n",
      "voulez vous continuer?\n",
      "36\n",
      "voulez vous continuer?\n",
      "38\n",
      "voulez vous continuer?\n",
      "40\n",
      "voulez vous continuer?\n",
      "42\n",
      "voulez vous continuer?\n",
      "44\n",
      "voulez vous continuer?\n",
      "46\n",
      "voulez vous continuer?\n",
      "48\n",
      "voulez vous continuer?\n",
      "50\n",
      "voulez vous continuer?\n",
      "52\n",
      "voulez vous continuer?\n",
      "54\n",
      "voulez vous continuer?\n",
      "56\n",
      "voulez vous continuer?\n",
      "58\n",
      "voulez vous continuer?\n"
     ]
    }
   ],
   "source": [
    "x=int(input('entrer un nombre entier entre 0 et 9: '))\n",
    "i=0\n",
    "maximum=0\n",
    "while i<x+1:\n",
    "    #print(maximum)\n",
    "    maximum=int(input('entrer un nombre entre 0 et 255: '))\n",
    "    for j in range(0,maximum+1):\n",
    "        if j%x==0:\n",
    "            print('les multiples de x sont: ',j)\n",
    "            "
   ]
  },
  {
   "cell_type": "code",
   "execution_count": null,
   "metadata": {
    "scrolled": true
   },
   "outputs": [],
   "source": [
    "n=int(input(\"Entrer un nombre entier naturel entre 0 et 9 : \"))\n",
    "maximum=0\n",
    "while decision=='non':\n",
    "    if n<=0 and n>=10:\n",
    "        while maximum<0 and maximum > 256:\n",
    "            maximum=int(input(\"Entrer un nombre entier naturel entre 0 et 255 : \"))\n",
    "    for i in range(maximum):\n",
    "            if i%x==0:\n",
    "                print(i)\n",
    "    decision = input(\"Voulez vous quitter ? oui ou non \")"
   ]
  },
  {
   "cell_type": "code",
   "execution_count": null,
   "metadata": {},
   "outputs": [],
   "source": []
  }
 ],
 "metadata": {
  "kernelspec": {
   "display_name": "Python 3",
   "language": "python",
   "name": "python3"
  },
  "language_info": {
   "codemirror_mode": {
    "name": "ipython",
    "version": 3
   },
   "file_extension": ".py",
   "mimetype": "text/x-python",
   "name": "python",
   "nbconvert_exporter": "python",
   "pygments_lexer": "ipython3",
   "version": "3.7.3"
  }
 },
 "nbformat": 4,
 "nbformat_minor": 2
}
