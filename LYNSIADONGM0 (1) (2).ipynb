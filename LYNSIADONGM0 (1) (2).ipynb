{
 "cells": [
  {
   "cell_type": "markdown",
   "metadata": {
    "id": "12_fdbLn8p4A"
   },
   "source": [
    "\n",
    "\n",
    "    \n",
    "#    <center> <b> <span style=\"color:orange;\" >  `Python for Scientific Computing and Software Engineering ` </span> </b></center>\n",
    "\n",
    "\n",
    "## <center> <b> <span style=\"color:orange;\"> An Initiation to Programming using Python (Init2Py) </span> </b></center>\n",
    "\n",
    "### <center> <b> <span style=\"color:blue;\"> Travaux Pratiques: Objets itérables ou conteneurs</span> </b></center>\n"
   ]
  },
  {
   "cell_type": "markdown",
   "metadata": {
    "id": "E_ZB23H68p4D"
   },
   "source": [
    "###  <center> <b> <span style=\"color:blue;\"> Listes </span> </b></center>"
   ]
  },
  {
   "cell_type": "code",
   "execution_count": null,
   "metadata": {
    "id": "TAzYC_Ev8p4F"
   },
   "outputs": [],
   "source": []
  },
  {
   "cell_type": "markdown",
   "metadata": {
    "id": "H0cIcjGk8p4G"
   },
   "source": [
    "#### **Exercice 00:** \n",
    ">**Déclarer une liste vide.**"
   ]
  },
  {
   "cell_type": "code",
   "execution_count": null,
   "metadata": {
    "id": "45QEMilz8p4I"
   },
   "outputs": [],
   "source": [
    "emptylist=[]"
   ]
  },
  {
   "cell_type": "markdown",
   "metadata": {
    "id": "zZ0XnwpB8p4J"
   },
   "source": [
    "#### **Exercice 01:** \n",
    ">**Déclarer une liste de plus de 5 éléments.**"
   ]
  },
  {
   "cell_type": "code",
   "execution_count": 4,
   "metadata": {
    "id": "HV32hLfA8p4L"
   },
   "outputs": [
    {
     "name": "stdout",
     "output_type": "stream",
     "text": [
      "[1, 2, 3, 8, 12]\n"
     ]
    }
   ],
   "source": [
    "liste=[1,2,3,8,12]\n",
    "print(liste)"
   ]
  },
  {
   "cell_type": "markdown",
   "metadata": {
    "id": "tJpy6kNz8p4M"
   },
   "source": [
    "#### **Exercice 02:** \n",
    ">**Trouver la longueur de votre liste.**"
   ]
  },
  {
   "cell_type": "code",
   "execution_count": 9,
   "metadata": {
    "id": "627A_RNw8p4O"
   },
   "outputs": [
    {
     "name": "stdout",
     "output_type": "stream",
     "text": [
      "5\n"
     ]
    }
   ],
   "source": [
    "print(len(liste))"
   ]
  },
  {
   "cell_type": "markdown",
   "metadata": {
    "id": "unFrwT5t8p4Q"
   },
   "source": [
    "#### **Exercice 03:** \n",
    ">**Obtenez le premier élément, l'élément central et le dernier élément de la liste.**\n",
    "\n"
   ]
  },
  {
   "cell_type": "code",
   "execution_count": 44,
   "metadata": {
    "id": "MUuc1gaQ8p4R"
   },
   "outputs": [
    {
     "name": "stdout",
     "output_type": "stream",
     "text": [
      "le premier element est:  1\n",
      "le dernier element est:  12\n",
      "2\n"
     ]
    }
   ],
   "source": [
    "print('le premier element est: ',liste[0])\n",
    "print('le dernier element est: ',liste[-1])\n",
    "f=5\n",
    "g=int(f/2)\n",
    "print(g)\n",
    "\n",
    "\n",
    "\n",
    "\n",
    "\n",
    "\n"
   ]
  },
  {
   "cell_type": "markdown",
   "metadata": {
    "id": "4Rqp8q0L8p4R"
   },
   "source": [
    "#### **Exercice 04:** \n",
    ">**Déclarez une liste appelée mixed_data_types, mettez votre (nom, âge, taille, état civil, adresse).**"
   ]
  },
  {
   "cell_type": "code",
   "execution_count": 18,
   "metadata": {
    "id": "EoZPW2UH8p4S"
   },
   "outputs": [
    {
     "name": "stdout",
     "output_type": "stream",
     "text": [
      "['nom=DONGMO TEDO', 'prenom=lynsia saychele', 'age=23', 'taille=1.59', 'etat civi=celibataire']\n"
     ]
    }
   ],
   "source": [
    "mixed_data_types=[\"nom=DONGMO TEDO\",'prenom=lynsia saychele','age=23','taille=1.59','etat civi=celibataire']\n",
    "print(mixed_data_types)"
   ]
  },
  {
   "cell_type": "markdown",
   "metadata": {
    "id": "OPYSNV1l8p4T"
   },
   "source": [
    "#### **Exercice 05:** \n",
    "\n",
    "    1. Déclarez une variable liste appelée it_companies et attribuez les valeurs initiales Facebook, Google, Microsoft, Apple, IBM, Oracle et Amazon.\n",
    "\n",
    "    2. Imprimez la liste à l'aide de print()\n",
    "\n",
    "    3. Imprimez le nombre d'entreprises dans la liste\n",
    "\n",
    "    4. Imprimez la première, la moyenne et la dernière entreprise\n",
    "\n",
    "    5. Imprimez la liste après avoir modifié l'une des entreprises.\n",
    "\n",
    "    6. Ajout d'une entreprise informatique à it_companies\n",
    "\n",
    "    7. Insérer une entreprise informatique au milieu de la liste des entreprises\n",
    "\n",
    "    8. Changez le nom d'une des it_companies en majuscule (sauf IBM !)\n",
    "\n",
    "    9. Joignez les it_companies avec une chaîne '# ; '.\n",
    "\n",
    "    10. Vérifier si une certaine entreprise existe dans la liste it_companies.\n",
    "\n",
    "    11. Trier la liste en utilisant la méthode sort()\n",
    "\n",
    "    12. Inversez la liste par ordre décroissant à l'aide de la méthode reverse().\n",
    "\n",
    "    13. Supprimez les 3 premières entreprises de la liste.\n",
    "\n",
    "    14. Supprimez les 3 dernières entreprises de la liste.\n",
    "\n",
    "    15. Supprimez la ou les entreprises informatiques du milieu de la liste.\n",
    "\n",
    "    16. Supprimez la première entreprise informatique de la liste\n",
    "\n",
    "    17. Supprimez la ou les entreprises informatiques du milieu de la liste.\n",
    "\n",
    "    18. Retirer la dernière entreprise informatique de la liste\n",
    "\n",
    "    19. Supprimez toutes les entreprises informatiques de la liste\n",
    "\n",
    "    20. Détruire la liste des entreprises informatiques"
   ]
  },
  {
   "cell_type": "code",
   "execution_count": 17,
   "metadata": {
    "id": "4M_XODba8p4V"
   },
   "outputs": [
    {
     "name": "stdout",
     "output_type": "stream",
     "text": [
      "['Facebook', 'Google', 'Microsoft', 'Apple', 'IBM', 'Oracle', 'Amazon']\n",
      "la longeur est: 7\n",
      "le premier est:  Facebook\n",
      "le dernier est:  Amazon\n",
      "le milieu est: 3\n",
      "['Facebook', 'Google', 'Linux', 'Apple', 'IBM', 'Oracle', 'Amazon']\n",
      "['Facebook', 'Google', 'Linux', 'Apple', 'IBM', 'Oracle', 'Amazon', 'SAMSUNG']\n"
     ]
    }
   ],
   "source": [
    "it_company=[\"Facebook\",\"Google\", \"Microsoft\", \"Apple\", \"IBM\", \"Oracle\", \"Amazon\"]\n",
    "print(it_company)\n",
    "print('la longeur est:',len(it_company))\n",
    "print('le premier est: ',it_company[0])\n",
    "print('le dernier est: ',it_company[-1])\n",
    "p=int(len(it_company)/2)\n",
    "print('le milieu est:',p)\n",
    "it_company=[\"Facebook\",\"Google\", \"Linux\", \"Apple\", \"IBM\", \"Oracle\", \"Amazon\"]\n",
    "print(it_company)\n",
    "it_company.append('SAMSUNG')\n",
    "print(it_company)\n",
    "\n"
   ]
  },
  {
   "cell_type": "code",
   "execution_count": 23,
   "metadata": {},
   "outputs": [
    {
     "name": "stdout",
     "output_type": "stream",
     "text": [
      "['Facebook', 'Google', 'Linux', 'APPLE', 'Techno', 'Techno', 'IBM', 'Oracle', 'Amazon', 'SAMSUNG']\n"
     ]
    }
   ],
   "source": [
    "it_company.insert(int(len(it_company)/2), 'Techno')\n",
    "print(it_company)\n"
   ]
  },
  {
   "cell_type": "code",
   "execution_count": 27,
   "metadata": {},
   "outputs": [
    {
     "data": {
      "text/plain": [
       "'Facebook#Google#Linux#APPLE#Techno#Techno#IBM#Oracle#Amazon#SAMSUNG'"
      ]
     },
     "execution_count": 27,
     "metadata": {},
     "output_type": "execute_result"
    }
   ],
   "source": [
    "'#'.join(it_company)#joindre les it_company"
   ]
  },
  {
   "cell_type": "code",
   "execution_count": 28,
   "metadata": {},
   "outputs": [
    {
     "name": "stdout",
     "output_type": "stream",
     "text": [
      "['Facebook', 'Google', 'Linux', 'APPLE', 'Techno', 'Techno', 'IBM', 'Oracle', 'Amazon', 'SAMSUNG']\n"
     ]
    }
   ],
   "source": [
    "#it_company=[\"Facebook\",\"Google\", \"Linux\", \"Apple\", \"IBM\", \"Oracle\", \"Amazon\"]\n",
    "#it_company=it_company.insert(3,it_company[3].upper())\n",
    "\n",
    "it_company[3]=it_company[3].upper()\n",
    "print(it_company)"
   ]
  },
  {
   "cell_type": "code",
   "execution_count": 336,
   "metadata": {},
   "outputs": [
    {
     "name": "stdout",
     "output_type": "stream",
     "text": [
      "['Facebook', 'Google', 'Linux', 'APPLE', 'Techno', 'IBM', 'Oracle', 'Amazon']\n"
     ]
    }
   ],
   "source": [
    "it_company.remove('SAMSUNG')\n",
    "print(it_company)"
   ]
  },
  {
   "cell_type": "code",
   "execution_count": 337,
   "metadata": {},
   "outputs": [
    {
     "name": "stdout",
     "output_type": "stream",
     "text": [
      "['Facebook', 'Google', 'Linux', 'APPLE', 'Techno', 'IBM', 'Amazon']\n"
     ]
    }
   ],
   "source": [
    "it_company.remove('Oracle')\n",
    "print(it_company)"
   ]
  },
  {
   "cell_type": "code",
   "execution_count": 338,
   "metadata": {},
   "outputs": [
    {
     "name": "stdout",
     "output_type": "stream",
     "text": [
      "['Facebook', 'Google', 'Linux', 'APPLE', 'Techno', 'Amazon']\n"
     ]
    }
   ],
   "source": [
    "it_company.remove('IBM')\n",
    "print(it_company)"
   ]
  },
  {
   "cell_type": "code",
   "execution_count": 339,
   "metadata": {},
   "outputs": [
    {
     "name": "stdout",
     "output_type": "stream",
     "text": [
      "['APPLE', 'Techno', 'Amazon']\n"
     ]
    }
   ],
   "source": [
    "del it_company[0:3]\n",
    "print(it_company)"
   ]
  },
  {
   "cell_type": "code",
   "execution_count": 340,
   "metadata": {},
   "outputs": [
    {
     "name": "stdout",
     "output_type": "stream",
     "text": [
      "1\n",
      "['APPLE', 'Amazon']\n"
     ]
    }
   ],
   "source": [
    "#y=int(len(it_company))\n",
    "#print(y)\n",
    "#d=int(y/2)\n",
    "#print(d)\n",
    "#it_company=it_company.remove[1]\n",
    "m=int(len(it_company)/2)\n",
    "print(m)\n",
    "it_company.remove(it_company[m])\n",
    "print(it_company)"
   ]
  },
  {
   "cell_type": "code",
   "execution_count": 345,
   "metadata": {},
   "outputs": [
    {
     "name": "stdout",
     "output_type": "stream",
     "text": [
      "['Facebook', 'Google', 'Linux', 'Apple', 'IBM', 'Oracle', 'Amazon']\n"
     ]
    }
   ],
   "source": [
    "it_company.remove(it_company[-1])   # supprimer la derniere entreprise de la liste\n",
    "print(it_company)\n",
    "    "
   ]
  },
  {
   "cell_type": "code",
   "execution_count": 346,
   "metadata": {},
   "outputs": [
    {
     "name": "stdout",
     "output_type": "stream",
     "text": [
      "['Google', 'Linux', 'Apple', 'IBM', 'Oracle', 'Amazon']\n"
     ]
    }
   ],
   "source": [
    "it_company.remove(it_company[0])\n",
    "print(it_company)# suprimer toutes les entreprises\n",
    "    "
   ]
  },
  {
   "cell_type": "code",
   "execution_count": 347,
   "metadata": {},
   "outputs": [
    {
     "name": "stdout",
     "output_type": "stream",
     "text": [
      "[]\n"
     ]
    }
   ],
   "source": [
    "#del(it_company):\n",
    "it_company.clear()\n",
    "print(it_company)#suprimer la liste"
   ]
  },
  {
   "cell_type": "markdown",
   "metadata": {
    "id": "AfauolZA8p4V"
   },
   "source": [
    "#### **Exercice 06:** \n",
    "**Joindre les listes suivantes :**\n",
    "     \n",
    "         front_end = ['HTML', 'CSS', 'JS', 'React', 'Redux']  \n",
    "         back_end = ['Node','Express', 'MongoDB']"
   ]
  },
  {
   "cell_type": "code",
   "execution_count": 1,
   "metadata": {
    "id": "6V8OXDSW8p4W"
   },
   "outputs": [
    {
     "name": "stdout",
     "output_type": "stream",
     "text": [
      "['HTML', 'CSS', 'JS', 'React', 'Redux', 'Node', 'Express', 'MongoDB']\n"
     ]
    }
   ],
   "source": [
    "front_end = ['HTML', 'CSS', 'JS', 'React', 'Redux']  \n",
    "back_end = ['Node','Express', 'MongoDB']\n",
    "print(front_end+back_end)\n",
    "    "
   ]
  },
  {
   "cell_type": "markdown",
   "metadata": {
    "id": "kASFM1bh8p4X"
   },
   "source": [
    "#### **Exercice 07:** \n",
    "Voici une liste de 10 âges d'étudiants :\n",
    "\n",
    "         ages = [19, 22, 19, 24, 20, 25, 26, 24, 25, 24]\n",
    "         \n",
    " \n",
    "    1. Trier la liste et trouver l'âge minimum et maximum.\n",
    "    2. Ajoutez à nouveau l'âge minimum et l'âge maximum à la liste.\n",
    "    3. Trouvez l'âge médian (un élément du milieu ou deux éléments du milieu divisés par deux).\n",
    "    4. Trouvez l'âge moyen (somme de tous les éléments divisée par leur nombre).\n",
    "    4. Trouver l'intervalle des âges (max moins min)\n",
    "    5. Comparez les valeurs de (min - moyenne) et (max - moyenne) en utilisant la méthode abs().\n",
    "        "
   ]
  },
  {
   "cell_type": "code",
   "execution_count": 23,
   "metadata": {
    "id": "TWTGGaOO8p4Z"
   },
   "outputs": [
    {
     "name": "stdout",
     "output_type": "stream",
     "text": [
      "19\n",
      "26\n"
     ]
    }
   ],
   "source": [
    " ages = [19, 22, 19, 24, 20, 25, 26, 24, 25, 24]\n",
    "print(min(ages))\n",
    "print(max(ages))"
   ]
  },
  {
   "cell_type": "code",
   "execution_count": 24,
   "metadata": {
    "id": "TEtbXitA8p4h"
   },
   "outputs": [
    {
     "name": "stdout",
     "output_type": "stream",
     "text": [
      "[19, 22, 19, 24, 20, 25, 26, 24, 25, 24, 19, 26]\n"
     ]
    }
   ],
   "source": [
    "ages.append(min(ages))\n",
    "ages.append(max(ages))\n",
    "print(ages)"
   ]
  },
  {
   "cell_type": "code",
   "execution_count": 25,
   "metadata": {},
   "outputs": [
    {
     "name": "stdout",
     "output_type": "stream",
     "text": [
      "6.0\n",
      "l'age median est: 26\n"
     ]
    }
   ],
   "source": [
    "m=int(len(ages))/2\n",
    "print(m)\n",
    "print(\"l'age median est:\",ages[6])"
   ]
  },
  {
   "cell_type": "code",
   "execution_count": 26,
   "metadata": {},
   "outputs": [
    {
     "name": "stdout",
     "output_type": "stream",
     "text": [
      "22\n"
     ]
    }
   ],
   "source": [
    "i=0\n",
    "somme=0\n",
    "for i in range (len(ages)):\n",
    " somme=somme+ages[i]\n",
    "ages_moyen=int(somme/len(ages))# est l'age median\n",
    "print(ages_moyen)\n",
    "    "
   ]
  },
  {
   "cell_type": "code",
   "execution_count": 27,
   "metadata": {},
   "outputs": [
    {
     "name": "stdout",
     "output_type": "stream",
     "text": [
      "range(0, 7)\n"
     ]
    }
   ],
   "source": [
    "#intervalles des ages max moins min\n",
    "h=range(max(ages)-min(ages))\n",
    "print(h)"
   ]
  },
  {
   "cell_type": "code",
   "execution_count": 31,
   "metadata": {},
   "outputs": [
    {
     "name": "stdout",
     "output_type": "stream",
     "text": [
      " 3\n",
      " 4\n"
     ]
    }
   ],
   "source": [
    "y=min(ages)-ages_moyen\n",
    "z=max(ages)-ages_moyen\n",
    "print('',abs(y))\n",
    "print('',abs(z))\n",
    "\n",
    "#u=abs(y,z)\n",
    "#print(u)"
   ]
  },
  {
   "cell_type": "code",
   "execution_count": null,
   "metadata": {},
   "outputs": [],
   "source": []
  },
  {
   "cell_type": "markdown",
   "metadata": {
    "id": "bF7FI4iT8p4i"
   },
   "source": [
    "###  <center> <b> <span style=\"color:blue;\"> Dictionnaires </span> </b></center>"
   ]
  },
  {
   "cell_type": "markdown",
   "metadata": {
    "id": "VzcSJMf18p4j"
   },
   "source": [
    "\n",
    "1. Créer un dictionnaire vide appelé `dog`\n",
    "2. Ajoute le nom, la couleur, la race, les pattes, l'âge au dictionnaire dog.\n",
    "3. Créez un dictionnaire student et ajoutez le prénom, le nom, le sexe, l'âge, l'état civil, les compétences, le pays, la ville et l'adresse comme clés pour le dictionnaire.\n",
    "4. Obtenez la longueur du dictionnaire student\n",
    "5. Récupérez la valeur des compétences et vérifiez le type de données, il doit s'agir d'une liste.\n",
    "6. Modifiez les valeurs des compétences en ajoutant une ou deux compétences.\n",
    "7. Obtenez les clés du dictionnaire sous forme de liste\n",
    "8. Obtenir les valeurs du dictionnaire sous forme de liste\n",
    "9. Transformer le dictionnaire en une liste de tuples en utilisant la méthode items()\n",
    "10. Supprimer un des éléments du dictionnaire\n",
    "11. Supprimer un des dictionnaires\n"
   ]
  },
  {
   "cell_type": "code",
   "execution_count": 80,
   "metadata": {
    "id": "LJ6DfBUh8p4k"
   },
   "outputs": [
    {
     "name": "stdout",
     "output_type": "stream",
     "text": [
      "{'nom': 'roki', 'couleur': 'rouge', 'les pattes': 'hygh', 'age au dictionnaire': 25, 'la race': 'berger'}\n",
      "8\n",
      "<class 'list'>\n",
      "dict_keys(['prenom', 'nom', 'sexe', 'etat civil', 'competence', 'pays', 'ville', 'adresse'])\n",
      "dict_values(['lynsia saychele', 'tedo', 'feminin', 'celibataire', [], 'cameroon', 'Dschang', 'cnps'])\n",
      "{}\n"
     ]
    }
   ],
   "source": [
    "#cree une liste vide\n",
    "dog={}\n",
    "#ajouter nom, couleur,......\n",
    "dog['nom']='roki'\n",
    "dog['couleur']='rouge'\n",
    "dog['les pattes']='hygh'\n",
    "dog['age au dictionnaire']=25\n",
    "dog['la race']='berger'\n",
    "print(dog)\n",
    "#cree un dictionnaire student\n",
    "student={'prenom':'lynsia saychele', 'nom':'tedo', 'sexe':'feminin', 'etat civil':'celibataire', \"competence\":['matlab,physique de la matiere'], \"pays\":'cameroon', \"ville\":\"Dschang\", 'adresse':'cnps'}\n",
    "print(len(student))\n",
    "#écupérez la valeur des compétences et vérifiez le type de données, il doit s'agir d'une liste.\n",
    "#Modifiez les valeurs des compétences en ajoutant une ou deux compétences.\n",
    "y = { **student, 'competence':[ 'anglais,francais,physique nucleaire,matlab,physique de la matiere']}\n",
    "student['competence']=[]\n",
    "print(type(student['competence']))\n",
    "#cle du dictionnaire\n",
    "print(student.keys())\n",
    "#Obtenir les valeurs du dictionnaire sous forme de liste\n",
    "print(student.values())#les valeurs du dictionnaires\n",
    "#Transformer le dictionnaire en une liste de tuples en utilisant la méthode items\n",
    "student.items()## transformer le dictionnaire en liste\n",
    "#Supprimer un des éléments du dictionnaire\n",
    "del student['etat civil']## suprimer un des element du dictionnaire\n",
    "##suppresion d'un des dictionnaire(nous choisissons le dictionaire student's)\n",
    "student.clear()\n",
    "print(student)"
   ]
  },
  {
   "cell_type": "code",
   "execution_count": 76,
   "metadata": {},
   "outputs": [
    {
     "name": "stdout",
     "output_type": "stream",
     "text": [
      "{}\n"
     ]
    }
   ],
   "source": []
  },
  {
   "cell_type": "code",
   "execution_count": null,
   "metadata": {
    "id": "rNdDqviE8p4l"
   },
   "outputs": [],
   "source": []
  },
  {
   "cell_type": "markdown",
   "metadata": {
    "id": "ugc1Itzb8p4l"
   },
   "source": [
    "<center> <b> <span style=\"color:orange;\"> 🎉 FÉLICITATIONS ! / CONGRATULATIONS !🎉 </span> </b></center>"
   ]
  }
 ],
 "metadata": {
  "colab": {
   "name": "Exercices_02_Objets-itérables-ou-conteneurs.ipynb",
   "provenance": []
  },
  "kernelspec": {
   "display_name": "Python 3",
   "language": "python",
   "name": "python3"
  },
  "language_info": {
   "codemirror_mode": {
    "name": "ipython",
    "version": 3
   },
   "file_extension": ".py",
   "mimetype": "text/x-python",
   "name": "python",
   "nbconvert_exporter": "python",
   "pygments_lexer": "ipython3",
   "version": "3.7.3"
  }
 },
 "nbformat": 4,
 "nbformat_minor": 1
}
