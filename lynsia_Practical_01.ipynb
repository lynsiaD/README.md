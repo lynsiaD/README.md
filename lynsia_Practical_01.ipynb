{
 "cells": [
  {
   "cell_type": "markdown",
   "metadata": {},
   "source": [
    "<center>\n",
    "    <a href=\"https://www.aims-senegal.org/\" ><img src=\"aimssn_logo.png\" style=\"float:center; max-width: 600px; display: inline\" alt=\"IMSP\"/> </a>\n",
    "    </center>\n",
    "    \n",
    "#    <center> <b> <span style=\"color:orange;\" >  `Python for Scientific Computing and Software Engineering ` </span> </b></center>\n",
    "\n",
    "\n",
    "## <center> <b> <span style=\"color:orange;\"> An Initiation to Programming using Python (Init2Py) </span> </b></center>\n",
    "\n",
    "### <center> <b> <span style=\"color:blue;\"> Practicals: Variables, Types & Operations </span> </b></center>"
   ]
  },
  {
   "cell_type": "markdown",
   "metadata": {},
   "source": [
    "**Exercise 00:**  \n",
    "\n",
    "> 1. Declare a variable `firstname` and assign it a value.\n",
    "> 2. Declare a `lastname` variable and assign a value to it.\n",
    "> 3. Declare a `full_name` variable and assign it a value.\n",
    "> 4. Declare a `country` variable and assign it a value.\n",
    "> 5. Declare a variable `city` and assign it a value.\n",
    "> 6. Declare a `age` variable and assign it a value.\n",
    "> 7. Declare a variable `year` and assign it a value.\n",
    "> 8. Declare a variable `is_marrie` and assign it a value.\n",
    "> 9. Declare a variable `is_true` and assign it a value.\n",
    "\n",
    "> For each of the above variable, display the value it contains using the `print()` function.\n",
    "\n",
    "\n"
   ]
  },
  {
   "cell_type": "code",
   "execution_count": 1,
   "metadata": {},
   "outputs": [
    {
     "name": "stdout",
     "output_type": "stream",
     "text": [
      "DONGMO TEDO Lynsia Saychele DONGMO TEDO Lynsia Saychele CAMEROON Dschang 23 2021 False True\n"
     ]
    }
   ],
   "source": [
    "firstname=\"DONGMO TEDO\"\n",
    "lastname=\"Lynsia Saychele\"\n",
    "full_name= \"DONGMO TEDO Lynsia Saychele\"\n",
    "country=\"CAMEROON\"\n",
    "city=\"Dschang\"\n",
    "age= 23\n",
    "year= 2021\n",
    "is_marrie=False\n",
    "is_true= True\n",
    "print(firstname,lastname,full_name,country,city,age,year,is_marrie,is_true)\n",
    "\n",
    "\n",
    "\n",
    "\n",
    "\n"
   ]
  },
  {
   "cell_type": "markdown",
   "metadata": {},
   "source": [
    "**Exercise 01:** \n",
    "> Check the data type of all your variables using the built-in function `type()`.**\n"
   ]
  },
  {
   "cell_type": "code",
   "execution_count": 2,
   "metadata": {},
   "outputs": [
    {
     "data": {
      "text/plain": [
       "bool"
      ]
     },
     "execution_count": 2,
     "metadata": {},
     "output_type": "execute_result"
    }
   ],
   "source": [
    "type(firstname)\n",
    "type(lastname)\n",
    "type(full_name)\n",
    "type(country)\n",
    "type(city)\n",
    "type(year)\n",
    "type(is_marrie)\n",
    "type(is_true)\n"
   ]
  },
  {
   "cell_type": "markdown",
   "metadata": {},
   "source": [
    "**Exercise 02:** \n",
    "> Calculate the value of $y$ ($y = x^2 + 6x + 9$). Try using different values of $x$ and determine at what value of $x$ will $y$ be equal to 0.**"
   ]
  },
  {
   "cell_type": "code",
   "execution_count": 3,
   "metadata": {},
   "outputs": [
    {
     "name": "stdout",
     "output_type": "stream",
     "text": [
      "x: 1 y: 16\n",
      "x: 2 y: 25\n",
      "x: -3 y: 0\n"
     ]
    }
   ],
   "source": [
    "for x in [1,2,-3]:\n",
    "    y=x**2+6*x+9\n",
    "    print('x:',x,'y:',y)"
   ]
  },
  {
   "cell_type": "code",
   "execution_count": null,
   "metadata": {},
   "outputs": [],
   "source": []
  },
  {
   "cell_type": "code",
   "execution_count": 4,
   "metadata": {},
   "outputs": [
    {
     "name": "stdout",
     "output_type": "stream",
     "text": [
      "x: -3 y: 0\n"
     ]
    }
   ],
   "source": [
    "list(range(-3,5))\n",
    "y=x**2+6*x+9\n",
    "print('x:',x,'y:',y)"
   ]
  },
  {
   "cell_type": "code",
   "execution_count": 5,
   "metadata": {},
   "outputs": [
    {
     "name": "stdout",
     "output_type": "stream",
     "text": [
      "x: -3 y: 0\n"
     ]
    }
   ],
   "source": [
    "x=-3\n",
    "y=x**2+6*x+9\n",
    "print('x:',x,'y:',y)\n",
    "    "
   ]
  },
  {
   "cell_type": "markdown",
   "metadata": {},
   "source": [
    "**Exercise 03:** \n",
    ">    \n",
    "     1. Declare your age as an integer variable\n",
    "     2. Declare your height as a float variable\n",
    "     3. Declare a variable that stores the base and height of a triangle. Calculate the area of this triangle (area = 0.5 x b x h)."
   ]
  },
  {
   "cell_type": "code",
   "execution_count": 6,
   "metadata": {},
   "outputs": [
    {
     "name": "stdout",
     "output_type": "stream",
     "text": [
      "3.75\n"
     ]
    }
   ],
   "source": [
    "myage =23\n",
    "height=2.2\n",
    "stockes= (5, 1.5)\n",
    "area = 0.5*stockes[0]*stockes[1]\n",
    "print(area)"
   ]
  },
  {
   "cell_type": "markdown",
   "metadata": {},
   "source": [
    "## *Tip: receiving input from the user *\n",
    "**To receive an input from the user, we use `input()`.**.\n",
    "\n",
    "**Example**\n",
    "Receive two numbers as input from the user and calculate their power:\n",
    "```python\n",
    "base = input(\"Enter a base: \")\n",
    "exponent = input(\"Enter an exponent: \")\n",
    "result = float(base) ** float(exponent)\n",
    "print(f \"{base} to the power of {exponent} = {result}\")\n",
    "```"
   ]
  },
  {
   "cell_type": "markdown",
   "metadata": {},
   "source": [
    "**Exercise 04:** \n",
    "> **Write a small code that asks the user to enter the side $a$, the side $b$ and the side $c$ of a triangle. Calculate the perimeter of the triangle (perimeter = a + b + c).**"
   ]
  },
  {
   "cell_type": "code",
   "execution_count": null,
   "metadata": {},
   "outputs": [],
   "source": [
    "a= float(input(\"entrer la valeur  de a\"))\n",
    "b=float(input(\"entrer la valeur de b\"))\n",
    "c=float(input(\"entrer la valeur de c\"))\n",
    "p=a*b*c\n",
    "print(p)"
   ]
  },
  {
   "cell_type": "markdown",
   "metadata": {},
   "source": [
    "**Exercise 05:** \n",
    "> **Obtain the length and width of a rectangle using the prompt. Calculate its `area`and its `perimeter`.**"
   ]
  },
  {
   "cell_type": "code",
   "execution_count": 2,
   "metadata": {},
   "outputs": [
    {
     "name": "stdout",
     "output_type": "stream",
     "text": [
      "entrer la longeur :2\n",
      "entrer la largeur :3\n",
      "Le perimetre est 10.0\n",
      "aire est 6.0\n"
     ]
    }
   ],
   "source": [
    "L=float(input(\"entrer la longeur :\"))\n",
    "l=float(input(\"entrer la largeur :\")) \n",
    "p=(l+L)*2\n",
    "a=l*L\n",
    "print('Le perimetre est',p)\n",
    "print('aire est',a)\n",
    "    "
   ]
  },
  {
   "cell_type": "markdown",
   "metadata": {},
   "source": [
    "**Exercice 06:** \n",
    "> **Obtenez le rayon d'un cercle en utilisant l'invite. Calculez l'aire (aire = pi x r x r) et la circonférence (c = 2 x pi x r) où pi = 3,14.**"
   ]
  },
  {
   "cell_type": "code",
   "execution_count": 7,
   "metadata": {},
   "outputs": [
    {
     "name": "stdout",
     "output_type": "stream",
     "text": [
      "entrer le rayon du cercle2\n",
      "aire est 6.0\n",
      "la circonference est 12.56\n"
     ]
    }
   ],
   "source": [
    "r=float(input(\"entrer le rayon du cercle\"))\n",
    "pi=3.14\n",
    "aire=pi*r*r\n",
    "c=2*pi*r\n",
    "print('aire est',a)\n",
    "print('la circonference est',c)"
   ]
  },
  {
   "cell_type": "markdown",
   "metadata": {},
   "source": [
    "**Exercice 07:**\n",
    "> **Calculez la pente, l'ordonnée à l'origine en x et l'ordonnée à l'origine en $y$ de $y = 2x -2$.**"
   ]
  },
  {
   "cell_type": "code",
   "execution_count": 9,
   "metadata": {},
   "outputs": [
    {
     "name": "stdout",
     "output_type": "stream",
     "text": [
      "entrer la valeur de x15\n",
      "entrer la valeur de x22\n",
      "la pente est -2.0\n",
      "ordonne origine en x est -1.0\n",
      "ordonne origine en y est -2\n"
     ]
    }
   ],
   "source": [
    "x1=float(input(\"entrer la valeur de x1\"))\n",
    "x2=float(input(\"entrer la valeur de x2\"))\n",
    "y2=2*x1-2\n",
    "y1=2*x2-2\n",
    "a=(y2-y1)/(x2-x1)\n",
    "x=0\n",
    "y0=2*x-2\n",
    "y=0\n",
    "x0=(y-2)/2\n",
    "print('la pente est',a)\n",
    "print('ordonne origine en x est',x0)\n",
    "print('ordonne origine en y est',y0)"
   ]
  },
  {
   "cell_type": "markdown",
   "metadata": {},
   "source": [
    "**Exercice 08:** \n",
    "> **Rédigez un script qui demande à l'utilisateur d'entrer les heures et le taux horaire. Calculez la rémunération de la personne ?**"
   ]
  },
  {
   "cell_type": "code",
   "execution_count": 13,
   "metadata": {},
   "outputs": [
    {
     "name": "stdout",
     "output_type": "stream",
     "text": [
      "entrer la valeur de l'heure5\n",
      "entre la valeur du taux horaire25\n",
      "la remuneration est 125.0\n"
     ]
    }
   ],
   "source": [
    "heure=float(input(\"entrer la valeur de l'heure\"))\n",
    "t=float(input(\"entre la valeur du taux horaire\"))\n",
    "r=t*heure\n",
    "print('la remuneration est',r)\n"
   ]
  },
  {
   "cell_type": "markdown",
   "metadata": {},
   "source": [
    "**Exercice 09:** \n",
    "> **Écrivez un script qui demande à l'utilisateur d'entrer le nombre d'années. Calculez le nombre de secondes qu'une personne peut vivre. Supposons qu'une personne puisse vivre cent ans.**"
   ]
  },
  {
   "cell_type": "code",
   "execution_count": 21,
   "metadata": {},
   "outputs": [
    {
     "name": "stdout",
     "output_type": "stream",
     "text": [
      "entrer le nombre d'annee2\n",
      "le nombre de jours correspondant a 1an est 365\n",
      "le nombre heure correspondant a 1jour est 24\n",
      "le nombre minute correspondant a 1heure est 60\n",
      "le nombre seconde correspondant a 1minute est 60\n",
      "le de seconde une personne puisse vivre est 3090528000.0\n"
     ]
    }
   ],
   "source": [
    "a=float(input(\"entrer le nombre d'annee\"))\n",
    "b=365\n",
    "print('le nombre de jours correspondant a 1an est',b)\n",
    "c=24\n",
    "print('le nombre heure correspondant a 1jour est',c)\n",
    "d=60\n",
    "print('le nombre minute correspondant a 1heure est',d)\n",
    "e=60\n",
    "print('le nombre seconde correspondant a 1minute est',e)\n",
    "f=(100-a)*b*c*d*e\n",
    "print('le de seconde une personne puisse vivre est',f)\n",
    "\n"
   ]
  },
  {
   "cell_type": "markdown",
   "metadata": {},
   "source": [
    "**Exercice 10:** \n",
    "> **Écrivez un script Python qui affiche le tableau suivant**\n",
    "\n",
    "    1 1 1 1 1\n",
    "    \n",
    "    2 1 2 4 8\n",
    "    \n",
    "    3 1 3 9 27\n",
    "    \n",
    "    4 1 4 16 64\n",
    "    \n",
    "    5 1 5 25 125"
   ]
  },
  {
   "cell_type": "code",
   "execution_count": 50,
   "metadata": {},
   "outputs": [
    {
     "name": "stdout",
     "output_type": "stream",
     "text": [
      "1 1 1 1 1\n",
      "2 1 4 8\n",
      "3 1 3 9 27\n",
      "4 1 4 16 64\n",
      "5 1 5 25 64\n"
     ]
    }
   ],
   "source": [
    "k=1\n",
    "print(k,k,k,k,k)\n",
    "print(k+1,k,(k+1)**2,(k+1)**3)\n",
    "print(k+2,k,k+2,(k+2)**2,(k+2)**3)\n",
    "print(k+3,k,k+3,(k+3)**2,(k+3)**3)\n",
    "print(k+4,k,k+4,(k+4)**2,(k+4)**3)"
   ]
  },
  {
   "cell_type": "markdown",
   "metadata": {},
   "source": [
    "**Exercise 11:** \n",
    ">**Assign the variables `time` and `distance` with the values $6.892$ and $19.7$. Calculate and display the value of the speed. Improve the display by imposing a digit after the decimal point.**"
   ]
  },
  {
   "cell_type": "code",
   "execution_count": 24,
   "metadata": {},
   "outputs": [
    {
     "name": "stdout",
     "output_type": "stream",
     "text": [
      "la valeur de la vitesse est: 2.9\n"
     ]
    }
   ],
   "source": [
    "t=6.892\n",
    "d=19.7\n",
    "v= d/t\n",
    " \n",
    "print('la valeur de la vitesse est:',round (v,1))"
   ]
  },
  {
   "cell_type": "markdown",
   "metadata": {},
   "source": [
    "**Exercice 12:** \n",
    "> **Écrire un programme qui, à partir de la saisie d’un rayon et d’une hauteur, calcule levolume d’un cône droit.**"
   ]
  },
  {
   "cell_type": "code",
   "execution_count": 27,
   "metadata": {},
   "outputs": [
    {
     "name": "stdout",
     "output_type": "stream",
     "text": [
      "entrer la valeur du rayon2\n",
      "entrer la valeur de la hauteur5\n",
      "le volume du cone est: 20.933333333333334\n"
     ]
    }
   ],
   "source": [
    "r=float(input(\"entrer la valeur du rayon\"))\n",
    "h=float(input(\"entrer la valeur de la hauteur\"))\n",
    "pi=3.14\n",
    "B=pi*r*r\n",
    "V=1/3*(B*h)  \n",
    "print('le volume du cone est:',V)        \n",
    "        \n",
    "        "
   ]
  },
  {
   "cell_type": "markdown",
   "metadata": {},
   "source": [
    "**Exercise 13:** \n",
    "> **The user gives a positive integer and the program announces how many times in a row this integer is divisible by 2.**"
   ]
  },
  {
   "cell_type": "code",
   "execution_count": 49,
   "metadata": {},
   "outputs": [
    {
     "name": "stdout",
     "output_type": "stream",
     "text": [
      "entrer un entier positif8\n",
      "le nombre de fois que a divise 2 est:  3\n"
     ]
    }
   ],
   "source": [
    "a=int(input(\"entrer un entier positif\"))\n",
    "x=0\n",
    "while(a%2==0):\n",
    "    a/=2\n",
    "    x=x+1\n",
    "print('le nombre de fois que a divise 2 est: ',x)\n"
   ]
  },
  {
   "cell_type": "markdown",
   "metadata": {},
   "source": [
    "Exercice 14:\n",
    "\n",
    "        **The user gives an integer between 2 and 12, the program gives the number of ways to do this by rolling two dice. "
   ]
  },
  {
   "cell_type": "code",
   "execution_count": 53,
   "metadata": {},
   "outputs": [
    {
     "name": "stdout",
     "output_type": "stream",
     "text": [
      "entrer un nombre entier entre 2 et 12: 5\n",
      "le nombre de facon de faire est:  4\n"
     ]
    }
   ],
   "source": [
    "a=int(input(\"entrer un nombre entier entre 2 et 12: \"))\n",
    "k=0\n",
    "for p in range (1,7):\n",
    "    for q in range (1,7):\n",
    "        if p+q==a:\n",
    "            k=k+1\n",
    "print('le nombre de facon de faire est: ',k)\n",
    "        "
   ]
  },
  {
   "cell_type": "markdown",
   "metadata": {},
   "source": [
    "**Exercice 15:** \n",
    "> **Utilisez la fonction d'entrée intégrée `input()` pour obtenir le `_prénom_`, le `_nom_`, le `_pays_d_origine` et l'`_age_` d'un utilisateur et stockez la valeur dans les noms des variables correspondantes.**"
   ]
  },
  {
   "cell_type": "code",
   "execution_count": null,
   "metadata": {},
   "outputs": [],
   "source": [
    "prenom= input(\"entrer le prenom: \")\n",
    "nom=input(\"entrer le nom: \")\n",
    "pays_origine=input(\"entrer pays origine: \")\n",
    "age=input(\"entrer age: \")\n"
   ]
  },
  {
   "cell_type": "markdown",
   "metadata": {},
   "source": [
    "**Exercice 16:** \n",
    "\n",
    "**Déclarer $5$ comme `num_one` et $4$ comme `num_two`**\n",
    "\n",
    "   1. Additionner `num_one` et `num_two` et affecter la valeur à une variable `totale`.\n",
    "   2. Soustraire `num_two` de `num_one` et affecter la valeur à une variable `diff`.\n",
    "   3. Multipliez le `num_one` et le `num_two` et attribuez la valeur à une variable `produit`.\n",
    "   4. Divisez le `num_one` par le `num_two` et attribuez la valeur à une variable `division`.\n",
    "   5. Calculez `num_one` à la puissance de `num_two` et attribuez la valeur à une variable `exp`."
   ]
  },
  {
   "cell_type": "code",
   "execution_count": 36,
   "metadata": {},
   "outputs": [
    {
     "name": "stdout",
     "output_type": "stream",
     "text": [
      "9\n",
      "-1\n",
      "20\n",
      "1.25\n"
     ]
    }
   ],
   "source": [
    "num_one=5\n",
    "num_two=4\n",
    "total=num_one+num_two\n",
    "print(total)\n",
    "diff=num_two-num_one\n",
    "print(diff)\n",
    "produit=num_two*num_one\n",
    "print(produit)\n",
    "division=num_one/num_two\n",
    "print(division)\n",
    "exp=num_one**num_two\n",
    "print(exp)"
   ]
  },
  {
   "cell_type": "markdown",
   "metadata": {},
   "source": [
    "<center> <b> <span style=\"color:orange;\"> 🎉 FÉLICITATIONS! / CONGRATULATIONS! 🎉 </span> </b></center>"
   ]
  }
 ],
 "metadata": {
  "kernelspec": {
   "display_name": "Python 3",
   "language": "python",
   "name": "python3"
  },
  "language_info": {
   "codemirror_mode": {
    "name": "ipython",
    "version": 3
   },
   "file_extension": ".py",
   "mimetype": "text/x-python",
   "name": "python",
   "nbconvert_exporter": "python",
   "pygments_lexer": "ipython3",
   "version": "3.7.3"
  }
 },
 "nbformat": 4,
 "nbformat_minor": 5
}
